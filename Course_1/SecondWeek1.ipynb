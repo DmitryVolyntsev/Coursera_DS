{
 "cells": [
  {
   "cell_type": "code",
   "execution_count": 91,
   "metadata": {},
   "outputs": [],
   "source": [
    "import numpy as np\n",
    "from scipy import spatial as sp\n",
    "import re\n",
    "from collections import Counter"
   ]
  },
  {
   "cell_type": "code",
   "execution_count": 92,
   "metadata": {},
   "outputs": [],
   "source": [
    "file = open('sentences.txt')\n",
    "dif_words_dict = dict()\n",
    "words_x2 = list()\n",
    "n = 0\n",
    "d = 0"
   ]
  },
  {
   "cell_type": "code",
   "execution_count": 93,
   "metadata": {},
   "outputs": [],
   "source": [
    "for string in file:\n",
    "    n += 1\n",
    "    string = string.lower()                             #занижаем\n",
    "    words = re.split('[^a-z]', string)                  #делим на слова\n",
    "    words = [word for word in words if word != '']      #удаляем пустые\n",
    "    words_x2.append(words)                              #двумерный массив слов\n",
    "    for word in words:\n",
    "        if word not in dif_words_dict.values():\n",
    "            dif_words_dict[d] = word\n",
    "            d += 1                                      #заносим уникальные слова и считаем\n",
    "dif_words_dict_x2 = [Counter(word) for word in words_x2]"
   ]
  },
  {
   "cell_type": "code",
   "execution_count": 94,
   "metadata": {},
   "outputs": [
    {
     "data": {
      "text/plain": [
       "array([[1., 1., 1., ..., 0., 0., 0.],\n",
       "       [0., 0., 1., ..., 0., 0., 0.],\n",
       "       [0., 0., 2., ..., 0., 0., 0.],\n",
       "       ...,\n",
       "       [0., 0., 0., ..., 0., 0., 0.],\n",
       "       [1., 0., 1., ..., 0., 0., 0.],\n",
       "       [0., 0., 1., ..., 1., 1., 1.]])"
      ]
     },
     "execution_count": 94,
     "metadata": {},
     "output_type": "execute_result"
    }
   ],
   "source": [
    "matrix = np.ones((n,d))\n",
    "for i in range(n):\n",
    "    for j in range(d):\n",
    "            matrix[i][j] = dif_words_dict_x2[i][dif_words_dict[j]]\n",
    "matrix"
   ]
  },
  {
   "cell_type": "code",
   "execution_count": 95,
   "metadata": {},
   "outputs": [
    {
     "data": {
      "text/plain": [
       "[(0, 0.0),\n",
       " (6, 0.7327387580875756),\n",
       " (4, 0.7770887149698589),\n",
       " (21, 0.8250364469440588),\n",
       " (10, 0.8328165362273942),\n",
       " (12, 0.8396432548525454),\n",
       " (16, 0.8406361854220809),\n",
       " (20, 0.8427572744917122),\n",
       " (2, 0.8644738145642124),\n",
       " (13, 0.8703592552895671),\n",
       " (14, 0.8740118423302576),\n",
       " (11, 0.8804771390665607),\n",
       " (8, 0.8842724875284311),\n",
       " (19, 0.8885443574849294),\n",
       " (3, 0.8951715163278082),\n",
       " (9, 0.9055088817476932),\n",
       " (7, 0.9258750683338899),\n",
       " (5, 0.9402385695332803),\n",
       " (15, 0.9442721787424647),\n",
       " (18, 0.9442721787424647),\n",
       " (1, 0.9527544408738466),\n",
       " (17, 0.956644501523794)]"
      ]
     },
     "execution_count": 95,
     "metadata": {},
     "output_type": "execute_result"
    }
   ],
   "source": [
    "dist = [(i,sp.distance.cosine(matrix[0],matrix[i])) for i in range (n)]\n",
    "dist.sort(key = lambda word: word[1])\n",
    "dist"
   ]
  },
  {
   "cell_type": "code",
   "execution_count": 96,
   "metadata": {},
   "outputs": [
    {
     "name": "stdout",
     "output_type": "stream",
     "text": [
      "6 4\n"
     ]
    }
   ],
   "source": [
    "with open(\"answer.txt\", 'w') as outp:\n",
    "    outp.write(str(dist[1][0]) + ' ' +   str(dist[2][0]))\n",
    "with open(\"answer.txt\", 'r') as outp:\n",
    "    print (outp.read())"
   ]
  },
  {
   "cell_type": "code",
   "execution_count": null,
   "metadata": {},
   "outputs": [],
   "source": []
  }
 ],
 "metadata": {
  "kernelspec": {
   "display_name": "Python 3",
   "language": "python",
   "name": "python3"
  },
  "language_info": {
   "codemirror_mode": {
    "name": "ipython",
    "version": 3
   },
   "file_extension": ".py",
   "mimetype": "text/x-python",
   "name": "python",
   "nbconvert_exporter": "python",
   "pygments_lexer": "ipython3",
   "version": "3.7.1"
  }
 },
 "nbformat": 4,
 "nbformat_minor": 2
}
